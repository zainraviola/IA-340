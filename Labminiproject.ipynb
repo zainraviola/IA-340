{
 "cells": [
  {
   "cell_type": "markdown",
   "id": "4ccbbdb2-e8c3-44ca-b625-47836b57ba8d",
   "metadata": {},
   "source": [
    "#IA340 Mini Project\n",
    "\n",
    "Project Title: Understanding Access to Mental Health Care in America \n",
    "\n"
   ]
  },
  {
   "cell_type": "code",
   "execution_count": 2,
   "id": "85f78e39-8ee7-4d53-a8ba-3c0468e5f364",
   "metadata": {},
   "outputs": [
    {
     "name": "stdout",
     "output_type": "stream",
     "text": [
      "Object `years` not found.\n"
     ]
    }
   ],
   "source": [
    "##Research Question\n",
    "# What factors influence whether individuals seek or receive mental health treatment in the last few years?\n"
   ]
  },
  {
   "cell_type": "code",
   "execution_count": 15,
   "id": "30bb23fc-1554-45e8-96b7-0082212ebb7d",
   "metadata": {},
   "outputs": [],
   "source": [
    "##Dataset Documentation\n",
    "#Source: https//catalog.data.gov/dataset/mental-health-care-in-the-last-4-weeks\n",
    "#data.gov/dataset/mental-health-care-in-the-last-4-weeks\n",
    "#Description: Mental Health Care in the last four years \n",
    "#Time Period: 2021-2025\n",
    "#Reason for Choice: Shows data that explains different factors of how mental health treatment is used/isn not used in the time frame for my research question\n"
   ]
  },
  {
   "cell_type": "code",
   "execution_count": 16,
   "id": "2e3fa1cf-847b-4342-aeed-fce85a70ea05",
   "metadata": {},
   "outputs": [],
   "source": [
    "# Convert date strings to datetime\n",
    "import pandas as pd\n",
    "df = pd.read_csv(\"Mental_Health_Care_in_the_Last_4_Weeks (1).csv\")\n",
    "df['Time Period Start Date'] = pd.to_datetime(df['Time Period Start Date'], errors='coerce')\n",
    "df['Time Period End Date'] = pd.to_datetime(df['Time Period End Date'], errors='coerce')\n",
    "\n",
    "# Remove rows where Value is missing\n",
    "df_cleaned = df.dropna(subset=['Value'])\n",
    "\n",
    "# Drop columns with too much missing data\n",
    "df_cleaned = df_cleaned.drop(columns=['Quartile Range', 'Suppression Flag'])\n",
    "\n",
    "# Ensure numeric columns are correct\n",
    "df_cleaned['Value'] = pd.to_numeric(df_cleaned['Value'], errors='coerce')\n",
    "df_cleaned['LowCI'] = pd.to_numeric(df_cleaned['LowCI'], errors='coerce')\n",
    "df_cleaned['HighCI'] = pd.to_numeric(df_cleaned['HighCI'], errors='coerce')\n",
    "\n",
    "# Create a new variable: Value Range (HighCI - LowCI)\n",
    "df_cleaned['Value Range'] = df_cleaned['HighCI'] - df_cleaned['LowCI']\n"
   ]
  },
  {
   "cell_type": "code",
   "execution_count": 17,
   "id": "4d1eec45-0f33-40b7-a087-2556265f19c3",
   "metadata": {},
   "outputs": [],
   "source": [
    "# Average value per indicator\n",
    "agg_by_indicator = df_cleaned.groupby('Indicator')['Value'].mean().reset_index()\n"
   ]
  },
  {
   "cell_type": "code",
   "execution_count": 18,
   "id": "441f07fa-357b-407d-9a82-8770223bd21d",
   "metadata": {},
   "outputs": [],
   "source": [
    "# Filter data for Virginia only\n",
    "va_data = df_cleaned[df_cleaned['State'] == 'Virginia']\n"
   ]
  },
  {
   "cell_type": "code",
   "execution_count": 14,
   "id": "ad13b42e-22b6-42ff-92dc-b761ceb23259",
   "metadata": {},
   "outputs": [
    {
     "ename": "NameError",
     "evalue": "name 'agg_by_indicator' is not defined",
     "output_type": "error",
     "traceback": [
      "\u001b[0;31m---------------------------------------------------------------------------\u001b[0m",
      "\u001b[0;31mNameError\u001b[0m                                 Traceback (most recent call last)",
      "Cell \u001b[0;32mIn[14], line 5\u001b[0m\n\u001b[1;32m      3\u001b[0m \u001b[38;5;66;03m# Bar chart of average metric values per indicator\u001b[39;00m\n\u001b[1;32m      4\u001b[0m plt\u001b[38;5;241m.\u001b[39mfigure(figsize\u001b[38;5;241m=\u001b[39m(\u001b[38;5;241m10\u001b[39m, \u001b[38;5;241m6\u001b[39m))\n\u001b[0;32m----> 5\u001b[0m plt\u001b[38;5;241m.\u001b[39mbarh(\u001b[43magg_by_indicator\u001b[49m[\u001b[38;5;124m'\u001b[39m\u001b[38;5;124mIndicator\u001b[39m\u001b[38;5;124m'\u001b[39m], agg_by_indicator[\u001b[38;5;124m'\u001b[39m\u001b[38;5;124mValue\u001b[39m\u001b[38;5;124m'\u001b[39m])\n\u001b[1;32m      6\u001b[0m plt\u001b[38;5;241m.\u001b[39mtitle(\u001b[38;5;124m'\u001b[39m\u001b[38;5;124mAverage Mental Health Metric Values by Indicator\u001b[39m\u001b[38;5;124m'\u001b[39m)\n\u001b[1;32m      7\u001b[0m plt\u001b[38;5;241m.\u001b[39mxlabel(\u001b[38;5;124m'\u001b[39m\u001b[38;5;124mAverage Value (\u001b[39m\u001b[38;5;124m%\u001b[39m\u001b[38;5;124m)\u001b[39m\u001b[38;5;124m'\u001b[39m)\n",
      "\u001b[0;31mNameError\u001b[0m: name 'agg_by_indicator' is not defined"
     ]
    },
    {
     "data": {
      "text/plain": [
       "<Figure size 1000x600 with 0 Axes>"
      ]
     },
     "metadata": {},
     "output_type": "display_data"
    }
   ],
   "source": [
    "import matplotlib.pyplot as plt\n",
    "\n",
    "# Bar chart of average metric values per indicator\n",
    "plt.figure(figsize=(10, 6))\n",
    "plt.barh(agg_by_indicator['Indicator'], agg_by_indicator['Value'])\n",
    "plt.title('Average Mental Health Metric Values by Indicator')\n",
    "plt.xlabel('Average Value (%)')\n",
    "plt.tight_layout()\n",
    "plt.show()\n"
   ]
  },
  {
   "cell_type": "code",
   "execution_count": 15,
   "id": "3c4222e6-dd97-46a1-bdbd-393acf05038a",
   "metadata": {},
   "outputs": [
    {
     "ename": "NameError",
     "evalue": "name 'df_cleaned' is not defined",
     "output_type": "error",
     "traceback": [
      "\u001b[0;31m---------------------------------------------------------------------------\u001b[0m",
      "\u001b[0;31mNameError\u001b[0m                                 Traceback (most recent call last)",
      "Cell \u001b[0;32mIn[15], line 2\u001b[0m\n\u001b[1;32m      1\u001b[0m \u001b[38;5;66;03m# LINE CHART: U.S. National average over time\u001b[39;00m\n\u001b[0;32m----> 2\u001b[0m national_data \u001b[38;5;241m=\u001b[39m \u001b[43mdf_cleaned\u001b[49m[df_cleaned[\u001b[38;5;124m'\u001b[39m\u001b[38;5;124mState\u001b[39m\u001b[38;5;124m'\u001b[39m] \u001b[38;5;241m==\u001b[39m \u001b[38;5;124m'\u001b[39m\u001b[38;5;124mUnited States\u001b[39m\u001b[38;5;124m'\u001b[39m]\n\u001b[1;32m      3\u001b[0m avg_by_time \u001b[38;5;241m=\u001b[39m national_data\u001b[38;5;241m.\u001b[39mgroupby(\u001b[38;5;124m'\u001b[39m\u001b[38;5;124mTime Period Start Date\u001b[39m\u001b[38;5;124m'\u001b[39m)[\u001b[38;5;124m'\u001b[39m\u001b[38;5;124mValue\u001b[39m\u001b[38;5;124m'\u001b[39m]\u001b[38;5;241m.\u001b[39mmean()\u001b[38;5;241m.\u001b[39mreset_index()\n\u001b[1;32m      5\u001b[0m plt\u001b[38;5;241m.\u001b[39mfigure(figsize\u001b[38;5;241m=\u001b[39m(\u001b[38;5;241m10\u001b[39m, \u001b[38;5;241m6\u001b[39m))\n",
      "\u001b[0;31mNameError\u001b[0m: name 'df_cleaned' is not defined"
     ]
    }
   ],
   "source": [
    "\n",
    "# LINE CHART: U.S. National average over time\n",
    "national_data = df_cleaned[df_cleaned['State'] == 'United States']\n",
    "avg_by_time = national_data.groupby('Time Period Start Date')['Value'].mean().reset_index()\n",
    "\n",
    "plt.figure(figsize=(10, 6))\n",
    "plt.plot(avg_by_time['Time Period Start Date'], avg_by_time['Value'], marker='o')\n",
    "plt.title('National Average Mental Health Care Value Over Time')\n",
    "plt.xlabel('Time Period Start Date')\n",
    "plt.ylabel('Average Value (%)')\n",
    "plt.tight_layout()\n",
    "plt.show()\n",
    "\n"
   ]
  },
  {
   "cell_type": "markdown",
   "id": "c6c24b68-0b32-4399-9407-8fbd91d08f4f",
   "metadata": {},
   "source": [
    "import, clean, and process/aggregate : I cleaned my dataset by; converting the dat columns to accurately measure the data in my time frame, removed the rows that had missing data, dropped columns that had too much data or wasnt relevant, ensured that the numeric values were correct, and I finally created a new variable called high/low confudebce intervals to indicate the levels of both certainty and uncertainty"
   ]
  },
  {
   "cell_type": "markdown",
   "id": "922a1965-7d12-4e8f-8552-07b947f43f1e",
   "metadata": {},
   "source": [
    "import, clean, and process/aggregate: I grouped data by the Indicator column to calculate average mental health values, supporting a comparison across service types"
   ]
  },
  {
   "cell_type": "markdown",
   "id": "28f0c77d-0662-4ddc-b849-e64bd7e2d527",
   "metadata": {},
   "source": [
    "import, clean, and process/aggregate I filtered the data to show the relevance of mental health retaments being seeked out and used in the state of VA, since I live here and am more curious to find out the data that is closest to me."
   ]
  },
  {
   "cell_type": "markdown",
   "id": "273807a0-9049-4b51-baa1-f3b71c6cab5e",
   "metadata": {},
   "source": [
    "This bar chart shows how mental health services have veen usef and are more prevelant during the padnemic. As you can see the average value for individuals who have taken prescription medication or recieved counsueling is higher than the other values shown on the graph. It highlights that prescription use is more common than counseling. "
   ]
  },
  {
   "cell_type": "markdown",
   "id": "dd9ace5e-9039-48fd-a2bd-b031af2d61a2",
   "metadata": {},
   "source": [
    "This line graph shows how the US national average trends for mental health service usage have changed over the pandemic period from 2020-2022."
   ]
  }
 ],
 "metadata": {
  "kernelspec": {
   "display_name": "conda_python3",
   "language": "python",
   "name": "conda_python3"
  },
  "language_info": {
   "codemirror_mode": {
    "name": "ipython",
    "version": 3
   },
   "file_extension": ".py",
   "mimetype": "text/x-python",
   "name": "python",
   "nbconvert_exporter": "python",
   "pygments_lexer": "ipython3",
   "version": "3.10.18"
  }
 },
 "nbformat": 4,
 "nbformat_minor": 5
}
