{
 "cells": [
  {
   "cell_type": "markdown",
   "id": "afb8345c-f0cd-4241-a104-05fdff34aab8",
   "metadata": {},
   "source": [
    "# Collect Census Data in Python"
   ]
  },
  {
   "cell_type": "markdown",
   "id": "ecde069f-fee0-4f58-b58c-84ace418a81b",
   "metadata": {},
   "source": [
    "Collect Census data with [Census API](https://www.census.gov/data/developers/data-sets.html) and store the information to a PostgreSQL database. "
   ]
  },
  {
   "cell_type": "markdown",
   "id": "e1bcbd95-e324-45ea-b477-a43280ac9849",
   "metadata": {},
   "source": [
    "## Install Python Packages  "
   ]
  },
  {
   "cell_type": "markdown",
   "id": "65f09e5d-ab85-4a79-ad70-7007f561e6a3",
   "metadata": {},
   "source": [
    "- census: a Census API wrapper to call Census APIs\n",
    "- us: a package praovidng US states antd territories names and FIPS codes\n",
    "- psycopg2: PostgreSQL databases adapter to create tables, insert data, and execute queries"
   ]
  },
  {
   "cell_type": "code",
   "execution_count": 12,
   "id": "ddaf2fb3-e157-4ec4-9e10-4d83d9f0a041",
   "metadata": {
    "tags": []
   },
   "outputs": [
    {
     "name": "stdout",
     "output_type": "stream",
     "text": [
      "Requirement already satisfied: census in /home/ec2-user/anaconda3/envs/python3/lib/python3.10/site-packages (0.8.24)\n",
      "Requirement already satisfied: requests>=1.1.0 in /home/ec2-user/anaconda3/envs/python3/lib/python3.10/site-packages (from census) (2.32.5)\n",
      "Requirement already satisfied: charset_normalizer<4,>=2 in /home/ec2-user/anaconda3/envs/python3/lib/python3.10/site-packages (from requests>=1.1.0->census) (3.4.3)\n",
      "Requirement already satisfied: idna<4,>=2.5 in /home/ec2-user/anaconda3/envs/python3/lib/python3.10/site-packages (from requests>=1.1.0->census) (3.10)\n",
      "Requirement already satisfied: urllib3<3,>=1.21.1 in /home/ec2-user/anaconda3/envs/python3/lib/python3.10/site-packages (from requests>=1.1.0->census) (2.5.0)\n",
      "Requirement already satisfied: certifi>=2017.4.17 in /home/ec2-user/anaconda3/envs/python3/lib/python3.10/site-packages (from requests>=1.1.0->census) (2025.8.3)\n",
      "Note: you may need to restart the kernel to use updated packages.\n"
     ]
    }
   ],
   "source": [
    "pip install census"
   ]
  },
  {
   "cell_type": "code",
   "execution_count": 13,
   "id": "6a2aeef7-5c32-4739-9b94-178b70a27f02",
   "metadata": {
    "tags": []
   },
   "outputs": [
    {
     "name": "stdout",
     "output_type": "stream",
     "text": [
      "Requirement already satisfied: us in /home/ec2-user/anaconda3/envs/python3/lib/python3.10/site-packages (3.2.0)\n",
      "Requirement already satisfied: jellyfish in /home/ec2-user/anaconda3/envs/python3/lib/python3.10/site-packages (from us) (1.1.3)\n",
      "Note: you may need to restart the kernel to use updated packages.\n"
     ]
    }
   ],
   "source": [
    "pip install us"
   ]
  },
  {
   "cell_type": "code",
   "execution_count": 14,
   "id": "6093780b-6de9-4127-be7b-4acd89e809ac",
   "metadata": {
    "tags": []
   },
   "outputs": [
    {
     "name": "stdout",
     "output_type": "stream",
     "text": [
      "Requirement already satisfied: psycopg2 in /home/ec2-user/anaconda3/envs/python3/lib/python3.10/site-packages (2.9.10)\n",
      "Note: you may need to restart the kernel to use updated packages.\n"
     ]
    }
   ],
   "source": [
    "pip install psycopg2"
   ]
  },
  {
   "cell_type": "markdown",
   "id": "116cd886-777a-4812-849d-df0280f10f14",
   "metadata": {},
   "source": [
    "## Secret Manager Function"
   ]
  },
  {
   "cell_type": "code",
   "execution_count": 18,
   "id": "eca16c23-4307-420e-90c0-c9373bed4827",
   "metadata": {
    "tags": []
   },
   "outputs": [],
   "source": [
    "import boto3\n",
    "from botocore.exceptions import ClientError\n",
    "import json\n",
    "\n",
    "def get_secret(secret_name):\n",
    "    region_name = \"us-east-1\"\n",
    "\n",
    "    # Create a Secrets Manager client\n",
    "    session = boto3.session.Session()\n",
    "    client = session.client(\n",
    "        service_name='secretsmanager',\n",
    "        region_name=region_name\n",
    "    )\n",
    "\n",
    "    try:\n",
    "        get_secret_value_response = client.get_secret_value(\n",
    "            SecretId=secret_name\n",
    "        )\n",
    "    except ClientError as e:\n",
    "        raise e\n",
    "\n",
    "    secret = get_secret_value_response['SecretString']\n",
    "    \n",
    "    return json.loads(secret)"
   ]
  },
  {
   "cell_type": "markdown",
   "id": "15a97230-5060-4d06-b635-4e6961bc46bc",
   "metadata": {},
   "source": [
    "## Connect to Database"
   ]
  },
  {
   "cell_type": "code",
   "execution_count": 20,
   "id": "ab275fb0-b2fd-4ca8-a946-404290348761",
   "metadata": {
    "tags": []
   },
   "outputs": [],
   "source": [
    "import psycopg2\n",
    "\n",
    "conn = psycopg2.connect(host=get_secret('postgresql2')['host'],\n",
    "                      user=get_secret('postgresql2')['username'],\n",
    "                      password = get_secret('postgresql2')['password'],\n",
    "                      dbname=get_secret('postgresql2')['engine'])\n",
    "\n",
    "cur = conn.cursor()"
   ]
  },
  {
   "cell_type": "markdown",
   "id": "6ecd2469-d08b-49c8-ac75-10b7d182f28f",
   "metadata": {},
   "source": [
    "## Create Tables"
   ]
  },
  {
   "cell_type": "code",
   "execution_count": 21,
   "id": "5c497518-345e-4aa3-ac91-24a9fdd51933",
   "metadata": {
    "tags": []
   },
   "outputs": [],
   "source": [
    "sql = \"\"\"\n",
    "-- Create tables\n",
    "CREATE TABLE IF NOT EXISTS name\n",
    "(\n",
    "    fips VARCHAR(4) NOT NULL UNIQUE,\n",
    "    name VARCHAR(100) UNIQUE,\n",
    "    PRIMARY KEY(fips)\n",
    ");\n",
    "\n",
    "CREATE TABLE IF NOT EXISTS population\n",
    "(\n",
    "    fips VARCHAR(4) NOT NULL,\n",
    "    pop INTEGER NOT NULL,\n",
    "    year INTEGER NOT NULL,\n",
    "    PRIMARY KEY(fips, year)\n",
    ");\n",
    "\n",
    "CREATE TABLE IF NOT EXISTS income\n",
    "(\n",
    "    fips VARCHAR(4) NOT NULL,\n",
    "    income INTEGER NOT NULL,\n",
    "    year INTEGER NOT NULL,\n",
    "    PRIMARY KEY(fips, year)\n",
    ");\n",
    "\n",
    "\n",
    "-- Create FKs\n",
    "ALTER TABLE population\n",
    "    ADD    FOREIGN KEY (fips)\n",
    "    REFERENCES name(fips)\n",
    "    MATCH SIMPLE\n",
    ";\n",
    "    \n",
    "ALTER TABLE income\n",
    "    ADD    FOREIGN KEY (fips)\n",
    "    REFERENCES name(fips)\n",
    "    MATCH SIMPLE\n",
    ";\n",
    "\n",
    "\"\"\""
   ]
  },
  {
   "cell_type": "code",
   "execution_count": 22,
   "id": "95107158-c920-4359-bd1e-379952e4d95f",
   "metadata": {
    "tags": []
   },
   "outputs": [],
   "source": [
    "cur.execute(sql)\n",
    "conn.commit()"
   ]
  },
  {
   "cell_type": "markdown",
   "id": "26f72993-bb09-41e0-a898-083fa60cc48a",
   "metadata": {},
   "source": [
    "## Insert Census Data into Tables"
   ]
  },
  {
   "cell_type": "markdown",
   "id": "c46640e9-cb8a-4388-8e5a-837ff2827430",
   "metadata": {},
   "source": [
    "Load Census API keys"
   ]
  },
  {
   "cell_type": "code",
   "execution_count": 30,
   "id": "96f2bbf5-b320-43e1-9dbc-f9541b5b5f4a",
   "metadata": {
    "tags": []
   },
   "outputs": [],
   "source": [
    "from census import Census\n",
    "from us import states\n",
    "\n",
    "\n",
    "c = Census(get_secret('census')['api_key'])"
   ]
  },
  {
   "cell_type": "markdown",
   "id": "a1477870-c19d-4aad-98f3-3a1ddf1b8a73",
   "metadata": {},
   "source": [
    "Insert state names to the name table."
   ]
  },
  {
   "cell_type": "code",
   "execution_count": 24,
   "id": "ebff05d0-68cb-4d23-9b2a-449133d0b987",
   "metadata": {
    "tags": []
   },
   "outputs": [],
   "source": [
    "for state in states.STATES_AND_TERRITORIES:\n",
    "    sql = f\"\"\"insert into name (name,fips) \n",
    "            values ('{state}','{state.fips}') \"\"\"\n",
    "    cur.execute(sql)\n",
    "    \n",
    "sql = f\"\"\"insert into name (name,fips) \n",
    "            values ('{states.DC.name}','{states.DC.fips}') \"\"\"\n",
    "cur.execute(sql)\n",
    "\n",
    "conn.commit()"
   ]
  },
  {
   "cell_type": "markdown",
   "id": "68fd2a03-061e-4ad8-b6e7-55247e8a8db1",
   "metadata": {},
   "source": [
    "Insert the population data to the population table."
   ]
  },
  {
   "cell_type": "code",
   "execution_count": 31,
   "id": "54f4ff28-12f1-4ca0-8f1e-152d11690693",
   "metadata": {
    "tags": []
   },
   "outputs": [
    {
     "name": "stdout",
     "output_type": "stream",
     "text": [
      "collecting data in year of:  2005\n",
      "collecting data in year of:  2006\n",
      "collecting data in year of:  2007\n",
      "collecting data in year of:  2008\n",
      "collecting data in year of:  2009\n",
      "collecting data in year of:  2010\n",
      "collecting data in year of:  2011\n",
      "collecting data in year of:  2012\n",
      "collecting data in year of:  2013\n",
      "collecting data in year of:  2014\n",
      "collecting data in year of:  2015\n",
      "collecting data in year of:  2016\n",
      "collecting data in year of:  2017\n",
      "collecting data in year of:  2018\n",
      "collecting data in year of:  2019\n"
     ]
    }
   ],
   "source": [
    "for year in range(2005,2020):\n",
    "    print('collecting data in year of: ',year)\n",
    "    for data in c.acs1.get('B01003_001E',{'for': 'state:*'},year=year):\n",
    "        \n",
    "        sql = f\"\"\"insert into population (fips,pop,year) \n",
    "            values ('{data['state']}',{data['B01003_001E']},{year}) \"\"\"\n",
    "#         print(sql)\n",
    "        cur.execute(sql)\n",
    "    conn.commit()"
   ]
  },
  {
   "cell_type": "markdown",
   "id": "0a411a31-e0c5-446d-becf-1baee0719454",
   "metadata": {},
   "source": [
    "Insert the median household income into the income table."
   ]
  },
  {
   "cell_type": "code",
   "execution_count": 32,
   "id": "8a49d56f-f7f9-47fb-a47d-8f0a32013e0f",
   "metadata": {
    "tags": []
   },
   "outputs": [
    {
     "name": "stdout",
     "output_type": "stream",
     "text": [
      "collecting data in year of:  2005\n",
      "collecting data in year of:  2006\n",
      "collecting data in year of:  2007\n",
      "collecting data in year of:  2008\n",
      "collecting data in year of:  2009\n",
      "collecting data in year of:  2010\n",
      "collecting data in year of:  2011\n",
      "collecting data in year of:  2012\n",
      "collecting data in year of:  2013\n",
      "collecting data in year of:  2014\n",
      "collecting data in year of:  2015\n",
      "collecting data in year of:  2016\n",
      "collecting data in year of:  2017\n",
      "collecting data in year of:  2018\n",
      "collecting data in year of:  2019\n"
     ]
    }
   ],
   "source": [
    "for year in range(2005,2020):\n",
    "    print('collecting data in year of: ',year)\n",
    "    for data in c.acs1.get('B19013_001E',{'for': 'state:*'},year=year):\n",
    "        \n",
    "        sql = f\"\"\"insert into income (fips,income,year) \n",
    "            values ('{data['state']}',{data['B19013_001E']},{year}) \"\"\"\n",
    "#         print(sql)\n",
    "        cur.execute(sql)\n",
    "    conn.commit()\n"
   ]
  },
  {
   "cell_type": "markdown",
   "id": "64464537-b6fd-4816-8a1f-520579a25cb5",
   "metadata": {},
   "source": [
    "## Close Dabase Connection"
   ]
  },
  {
   "cell_type": "code",
   "execution_count": 33,
   "id": "bf7f3c2c-75ae-4266-a951-97ee757ffc29",
   "metadata": {
    "tags": []
   },
   "outputs": [],
   "source": [
    "cur.close()\n",
    "conn.close()"
   ]
  },
  {
   "cell_type": "code",
   "execution_count": null,
   "id": "19e641e2-0b7e-418b-808d-25e087da1772",
   "metadata": {},
   "outputs": [],
   "source": []
  },
  {
   "cell_type": "code",
   "execution_count": null,
   "id": "347caf73-78e4-44c3-ac33-835eb9755711",
   "metadata": {},
   "outputs": [],
   "source": []
  },
  {
   "cell_type": "code",
   "execution_count": null,
   "id": "2ab5221d-ec55-42f0-ab2e-dfec7e7bddab",
   "metadata": {},
   "outputs": [],
   "source": []
  },
  {
   "cell_type": "code",
   "execution_count": null,
   "id": "e9139c45-8b04-4319-88e6-7d8427753574",
   "metadata": {},
   "outputs": [],
   "source": []
  },
  {
   "cell_type": "code",
   "execution_count": null,
   "id": "4c85c9cb-46e7-496f-ad03-da7335218eaf",
   "metadata": {},
   "outputs": [],
   "source": []
  }
 ],
 "metadata": {
  "kernelspec": {
   "display_name": "conda_python3",
   "language": "python",
   "name": "conda_python3"
  },
  "language_info": {
   "codemirror_mode": {
    "name": "ipython",
    "version": 3
   },
   "file_extension": ".py",
   "mimetype": "text/x-python",
   "name": "python",
   "nbconvert_exporter": "python",
   "pygments_lexer": "ipython3",
   "version": "3.10.18"
  }
 },
 "nbformat": 4,
 "nbformat_minor": 5
}
